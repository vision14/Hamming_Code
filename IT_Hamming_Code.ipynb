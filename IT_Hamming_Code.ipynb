{
 "cells": [
  {
   "cell_type": "markdown",
   "metadata": {},
   "source": [
    "# Hamming Code"
   ]
  },
  {
   "cell_type": "markdown",
   "metadata": {},
   "source": [
    "## 1. Single Error Detection Code "
   ]
  },
  {
   "cell_type": "code",
   "execution_count": 1,
   "metadata": {},
   "outputs": [
    {
     "name": "stdout",
     "output_type": "stream",
     "text": [
      "Enter a binary string: 10110\n",
      "Encoded message with parity bit: 101101\n"
     ]
    }
   ],
   "source": [
    "def SED(m):\n",
    "    c = m.count(\"1\")\n",
    "    if(c%2 == 0):\n",
    "        m += \"0\"\n",
    "    else:\n",
    "        m += \"1\"\n",
    "    return m\n",
    "    \n",
    "message = input(\"Enter a binary string: \")\n",
    "encoded_message = SED(message)\n",
    "print(\"Encoded message with parity bit: \" + str(encoded_message))"
   ]
  },
  {
   "cell_type": "markdown",
   "metadata": {},
   "source": [
    "## 2. Single Error Correction Code"
   ]
  },
  {
   "cell_type": "code",
   "execution_count": 2,
   "metadata": {},
   "outputs": [
    {
     "name": "stdout",
     "output_type": "stream",
     "text": [
      "Enter a binary string: 1101\n",
      "Encoded message with parity bits: 1010101\n"
     ]
    }
   ],
   "source": [
    "from math import log2\n",
    "\n",
    "def SEC(m):\n",
    "    n = 0\n",
    "    while(True):\n",
    "        if(2**len(m) <= (2**n/(n+1))):\n",
    "            break\n",
    "        else:\n",
    "            n += 1\n",
    "    k = n-len(m)\n",
    "\n",
    "    parity_association = {}\n",
    "    for i in range(1, k+1):\n",
    "        parity_association[\"p\"+str(i)] = []\n",
    "\n",
    "    for i in range(1, k+1):\n",
    "        for j in range(1, n+1):\n",
    "            bin_j = bin(j)[2:]\n",
    "            if(len(bin_j) >= i):\n",
    "                if(bin_j[-i] == '1'):\n",
    "                    parity_association[\"p\"+str(i)].append(j)\n",
    "\n",
    "    for i in parity_association:\n",
    "        del parity_association[i][0]\n",
    "\n",
    "    encoded_message = []\n",
    "    counter = 0\n",
    "    for i in range(1, n+1):\n",
    "        if(not log2(i).is_integer()):\n",
    "            encoded_message.append(int(m[counter]))\n",
    "            counter += 1\n",
    "        else:\n",
    "            encoded_message.append(0)\n",
    "\n",
    "    parity_values = []\n",
    "\n",
    "    for i in parity_association:\n",
    "        temp = []\n",
    "        for j in parity_association[i]:\n",
    "            temp.append(encoded_message[j-1])\n",
    "        if(temp.count(1)%2 == 0):\n",
    "            parity_values.append(0)\n",
    "        else:\n",
    "            parity_values.append(1)\n",
    "\n",
    "    counter = 0\n",
    "    for i in range(1, n+1):\n",
    "        if(log2(i).is_integer()):\n",
    "            encoded_message[i-1] = parity_values[counter]\n",
    "            counter += 1\n",
    "    \n",
    "    encoded_message = ''.join(str(i) for i in encoded_message)\n",
    "    return encoded_message\n",
    "    \n",
    "message = input(\"Enter a binary string: \")\n",
    "encoded_message = SEC(message)\n",
    "print(\"Encoded message with parity bits: \" + str(encoded_message))"
   ]
  },
  {
   "cell_type": "markdown",
   "metadata": {},
   "source": [
    "## Single Error Correction and Double Error Detection"
   ]
  },
  {
   "cell_type": "code",
   "execution_count": 3,
   "metadata": {},
   "outputs": [
    {
     "name": "stdout",
     "output_type": "stream",
     "text": [
      "Enter a binary string: 1101\n",
      "Encoded message with parity bits: 10101010\n"
     ]
    }
   ],
   "source": [
    "def SECD(m):\n",
    "    temp_m = SEC(m)\n",
    "    encoded_m = SED(temp_m)\n",
    "    return encoded_m\n",
    "\n",
    "message = input(\"Enter a binary string: \")\n",
    "encoded_message = SECD(message)\n",
    "print(\"Encoded message with parity bits: \" + str(encoded_message))"
   ]
  }
 ],
 "metadata": {
  "kernelspec": {
   "display_name": "Python 3",
   "language": "python",
   "name": "python3"
  },
  "language_info": {
   "codemirror_mode": {
    "name": "ipython",
    "version": 3
   },
   "file_extension": ".py",
   "mimetype": "text/x-python",
   "name": "python",
   "nbconvert_exporter": "python",
   "pygments_lexer": "ipython3",
   "version": "3.8.3"
  }
 },
 "nbformat": 4,
 "nbformat_minor": 4
}
